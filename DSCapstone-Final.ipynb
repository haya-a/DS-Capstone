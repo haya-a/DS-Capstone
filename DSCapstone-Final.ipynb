{
    "cells": [
        {
            "cell_type": "markdown",
            "metadata": {
                "collapsed": true
            },
            "source": "# Capstone Project - The Battle of the Neighborhoods \n### Optimal location for my healthy food brand in Doha"
        },
        {
            "cell_type": "markdown",
            "metadata": {},
            "source": "## Table of contents\n* [Introduction: Business Problem](#introduction)\n* [Data](#data)\n* [Methodology](#methodology)\n* [Analysis](#analysis)\n* [Results and Discussion](#results)\n* [Conclusion](#conclusion)"
        },
        {
            "cell_type": "markdown",
            "metadata": {},
            "source": "## Introduction: Business Problem <a name=\"introduction\"></a>"
        },
        {
            "cell_type": "markdown",
            "metadata": {},
            "source": "This project is based on a real life problem. I have a home-run healthy snacks company and I am looking for potential spot to set up shop here in Doha, Qatar. I'm going to try and be as practical as I can with this decision seeing how I am personally invested.\n\nThe idea of healthy eating is gaining popularity here in Qatar. Slowly but surely, people are making an effort to eat responsibly, especially when it comes to their kids. In this project we want to focus on localities close to schools since that is a place of particular interest. It would also help our cause if no other cafes are in the vicinity since we primarily sell snacks, not fully-plated food.\n\nUsing all my data science experience, I set forth to discover the best location possible for this investment."
        },
        {
            "cell_type": "markdown",
            "metadata": {},
            "source": "## Data <a name=\"data\"></a>"
        },
        {
            "cell_type": "markdown",
            "metadata": {},
            "source": "The most important factors to consider are:\n* areas close to schools\n* number of and distance to cafes in the neighborhood, if any\n\nQatar is divided into eight municipalities, and each municipality is further divided into zones.\nWe will focus this research on the zones under the Doha municipality, which will serve as our defined neighbourhoods.\n\nI am relying on the following sources to get the data I will need:\n* coordinates of Doha using Google Maps\n* coordinates of the zones using latlong.net\n* number of schools and their location in every zone using Foursquare API"
        },
        {
            "cell_type": "code",
            "execution_count": 53,
            "metadata": {},
            "outputs": [
                {
                    "name": "stdout",
                    "output_type": "stream",
                    "text": "Solving environment: done\n\n# All requested packages already installed.\n\nSolving environment: done\n\n# All requested packages already installed.\n\nFolium installed\nLibraries imported.\n"
                }
            ],
            "source": "import requests # library to handle requests\nimport pandas as pd # library for data analsysis\nimport numpy as np # library to handle data in a vectorized manner\nimport random # library for random number generation\n\n!conda install -c conda-forge geopy --yes \nfrom geopy.geocoders import Nominatim # module to convert an address into latitude and longitude values\n\n# libraries for displaying images\nfrom IPython.display import Image \nfrom IPython.core.display import HTML \n    \n# tranforming json file into a pandas dataframe library\nfrom pandas.io.json import json_normalize\n\n!conda install -c conda-forge folium=0.5.0 --yes\nimport folium # plotting library\n\nprint('Folium installed')\nprint('Libraries imported.')\n"
        },
        {
            "cell_type": "markdown",
            "metadata": {},
            "source": "### Defining the neighbourhoods\n\nLet's create a dataframe with the latitudes and longitudes of the zones we want to focus on"
        },
        {
            "cell_type": "code",
            "execution_count": 84,
            "metadata": {},
            "outputs": [
                {
                    "data": {
                        "text/html": "<div>\n<style scoped>\n    .dataframe tbody tr th:only-of-type {\n        vertical-align: middle;\n    }\n\n    .dataframe tbody tr th {\n        vertical-align: top;\n    }\n\n    .dataframe thead th {\n        text-align: right;\n    }\n</style>\n<table border=\"1\" class=\"dataframe\">\n  <thead>\n    <tr style=\"text-align: right;\">\n      <th></th>\n      <th>Zone</th>\n      <th>Districts</th>\n      <th>Population</th>\n      <th>Latitude</th>\n      <th>Longitude</th>\n    </tr>\n  </thead>\n  <tbody>\n    <tr>\n      <th>0</th>\n      <td>3</td>\n      <td>Fereej Mohamed Bin Jasim</td>\n      <td>4886</td>\n      <td>25.2865</td>\n      <td>51.5296</td>\n    </tr>\n    <tr>\n      <th>1</th>\n      <td>4</td>\n      <td>Mushayrib</td>\n      <td>28069</td>\n      <td>25.2818</td>\n      <td>51.5275</td>\n    </tr>\n    <tr>\n      <th>2</th>\n      <td>14</td>\n      <td>Fereej Abdel Aziz</td>\n      <td>15706</td>\n      <td>25.2777</td>\n      <td>51.5242</td>\n    </tr>\n    <tr>\n      <th>3</th>\n      <td>15</td>\n      <td>Ad Dawhah al Jadidah</td>\n      <td>15920</td>\n      <td>25.2776</td>\n      <td>51.5321</td>\n    </tr>\n    <tr>\n      <th>4</th>\n      <td>16</td>\n      <td>Old Al Ghanim</td>\n      <td>16334</td>\n      <td>25.2800</td>\n      <td>51.5400</td>\n    </tr>\n    <tr>\n      <th>5</th>\n      <td>17</td>\n      <td>Al Rufaa</td>\n      <td>6026</td>\n      <td>25.2853</td>\n      <td>51.5444</td>\n    </tr>\n    <tr>\n      <th>6</th>\n      <td>22</td>\n      <td>Fereej Bin Mahmoud</td>\n      <td>28327</td>\n      <td>25.2803</td>\n      <td>51.5124</td>\n    </tr>\n    <tr>\n      <th>7</th>\n      <td>24</td>\n      <td>Rawdat Al Khail</td>\n      <td>18200</td>\n      <td>25.2860</td>\n      <td>51.5142</td>\n    </tr>\n    <tr>\n      <th>8</th>\n      <td>25</td>\n      <td>Fereej Bin Durham</td>\n      <td>37082</td>\n      <td>25.2693</td>\n      <td>51.5295</td>\n    </tr>\n    <tr>\n      <th>9</th>\n      <td>26</td>\n      <td>Najma</td>\n      <td>28228</td>\n      <td>25.2683</td>\n      <td>51.5387</td>\n    </tr>\n    <tr>\n      <th>10</th>\n      <td>27</td>\n      <td>Umm Ghuwailina</td>\n      <td>33262</td>\n      <td>25.2766</td>\n      <td>51.5492</td>\n    </tr>\n    <tr>\n      <th>11</th>\n      <td>30</td>\n      <td>Duhail</td>\n      <td>7705</td>\n      <td>25.3477</td>\n      <td>51.4675</td>\n    </tr>\n    <tr>\n      <th>12</th>\n      <td>31</td>\n      <td>Umm Lekhba</td>\n      <td>11897</td>\n      <td>25.3477</td>\n      <td>51.4675</td>\n    </tr>\n    <tr>\n      <th>13</th>\n      <td>32</td>\n      <td>Madinat Khalifa North</td>\n      <td>12364</td>\n      <td>25.3290</td>\n      <td>51.4756</td>\n    </tr>\n    <tr>\n      <th>14</th>\n      <td>33</td>\n      <td>Al Markhiya</td>\n      <td>6242</td>\n      <td>25.3388</td>\n      <td>51.4992</td>\n    </tr>\n    <tr>\n      <th>15</th>\n      <td>34</td>\n      <td>Madinat Khalifa South</td>\n      <td>38247</td>\n      <td>25.3156</td>\n      <td>51.4808</td>\n    </tr>\n    <tr>\n      <th>16</th>\n      <td>35</td>\n      <td>Fereej Kulaib</td>\n      <td>6507</td>\n      <td>25.3138</td>\n      <td>51.4914</td>\n    </tr>\n    <tr>\n      <th>17</th>\n      <td>36</td>\n      <td>Al Messila</td>\n      <td>6803</td>\n      <td>25.3006</td>\n      <td>51.4808</td>\n    </tr>\n    <tr>\n      <th>18</th>\n      <td>37</td>\n      <td>Fereej Bin Omran</td>\n      <td>26121</td>\n      <td>25.3038</td>\n      <td>51.4953</td>\n    </tr>\n    <tr>\n      <th>19</th>\n      <td>38</td>\n      <td>Al Sadd</td>\n      <td>41673</td>\n      <td>25.2838</td>\n      <td>51.4914</td>\n    </tr>\n    <tr>\n      <th>20</th>\n      <td>40</td>\n      <td>New Salatah</td>\n      <td>16086</td>\n      <td>25.2623</td>\n      <td>51.5094</td>\n    </tr>\n    <tr>\n      <th>21</th>\n      <td>41</td>\n      <td>Nuaija</td>\n      <td>33379</td>\n      <td>25.2467</td>\n      <td>51.5334</td>\n    </tr>\n    <tr>\n      <th>22</th>\n      <td>42</td>\n      <td>Al Hilal</td>\n      <td>11671</td>\n      <td>25.2599</td>\n      <td>51.5439</td>\n    </tr>\n    <tr>\n      <th>23</th>\n      <td>45</td>\n      <td>Old Airport</td>\n      <td>48525</td>\n      <td>25.2481</td>\n      <td>51.5544</td>\n    </tr>\n    <tr>\n      <th>24</th>\n      <td>46</td>\n      <td>Al Thumama</td>\n      <td>21367</td>\n      <td>25.2316</td>\n      <td>51.5413</td>\n    </tr>\n    <tr>\n      <th>25</th>\n      <td>61</td>\n      <td>Al Dafna</td>\n      <td>4022</td>\n      <td>25.3077</td>\n      <td>51.5163</td>\n    </tr>\n    <tr>\n      <th>26</th>\n      <td>63</td>\n      <td>Onaiza</td>\n      <td>37461</td>\n      <td>25.3469</td>\n      <td>51.5176</td>\n    </tr>\n    <tr>\n      <th>27</th>\n      <td>64</td>\n      <td>Lejbailat</td>\n      <td>4151</td>\n      <td>25.3212</td>\n      <td>51.5032</td>\n    </tr>\n    <tr>\n      <th>28</th>\n      <td>67</td>\n      <td>Hazm Al Markhiya</td>\n      <td>8967</td>\n      <td>25.3388</td>\n      <td>51.4992</td>\n    </tr>\n    <tr>\n      <th>29</th>\n      <td>68</td>\n      <td>Jelaiah</td>\n      <td>5521</td>\n      <td>25.3522</td>\n      <td>51.4861</td>\n    </tr>\n  </tbody>\n</table>\n</div>",
                        "text/plain": "    Zone                 Districts  Population  Latitude  Longitude\n0      3  Fereej Mohamed Bin Jasim        4886   25.2865    51.5296\n1      4                 Mushayrib       28069   25.2818    51.5275\n2     14         Fereej Abdel Aziz       15706   25.2777    51.5242\n3     15      Ad Dawhah al Jadidah       15920   25.2776    51.5321\n4     16             Old Al Ghanim       16334   25.2800    51.5400\n5     17                  Al Rufaa        6026   25.2853    51.5444\n6     22        Fereej Bin Mahmoud       28327   25.2803    51.5124\n7     24           Rawdat Al Khail       18200   25.2860    51.5142\n8     25         Fereej Bin Durham       37082   25.2693    51.5295\n9     26                     Najma       28228   25.2683    51.5387\n10    27            Umm Ghuwailina       33262   25.2766    51.5492\n11    30                    Duhail        7705   25.3477    51.4675\n12    31                Umm Lekhba       11897   25.3477    51.4675\n13    32     Madinat Khalifa North       12364   25.3290    51.4756\n14    33               Al Markhiya        6242   25.3388    51.4992\n15    34     Madinat Khalifa South       38247   25.3156    51.4808\n16    35             Fereej Kulaib        6507   25.3138    51.4914\n17    36                Al Messila        6803   25.3006    51.4808\n18    37          Fereej Bin Omran       26121   25.3038    51.4953\n19    38                   Al Sadd       41673   25.2838    51.4914\n20    40               New Salatah       16086   25.2623    51.5094\n21    41                    Nuaija       33379   25.2467    51.5334\n22    42                  Al Hilal       11671   25.2599    51.5439\n23    45               Old Airport       48525   25.2481    51.5544\n24    46                Al Thumama       21367   25.2316    51.5413\n25    61                  Al Dafna        4022   25.3077    51.5163\n26    63                    Onaiza       37461   25.3469    51.5176\n27    64                 Lejbailat        4151   25.3212    51.5032\n28    67          Hazm Al Markhiya        8967   25.3388    51.4992\n29    68                   Jelaiah        5521   25.3522    51.4861"
                    },
                    "execution_count": 84,
                    "metadata": {},
                    "output_type": "execute_result"
                }
            ],
            "source": "from bs4 import BeautifulSoup\n\nres = requests.get(\"https://en.wikipedia.org/wiki/Zones_of_Qatar\")\nsoup = BeautifulSoup(res.content,'lxml')\n\ntables = soup.find_all('table', class_='wikitable')\n\nd = {'Zone': [3,4,14,15,16,17,22,24,25,26,27,30,31,32,33,34,35,36,37,38,40,41,42,45,46,61,63,64,67,68],'Districts': ['Fereej Mohamed Bin Jasim','Mushayrib','Fereej Abdel Aziz','Ad Dawhah al Jadidah','Old Al Ghanim','Al Rufaa','Fereej Bin Mahmoud','Rawdat Al Khail','Fereej Bin Durham','Najma','Umm Ghuwailina','Duhail','Umm Lekhba','Madinat Khalifa North','Al Markhiya','Madinat Khalifa South','Fereej Kulaib','Al Messila','Fereej Bin Omran','Al Sadd','New Salatah','Nuaija','Al Hilal','Old Airport','Al Thumama','Al Dafna','Onaiza','Lejbailat','Hazm Al Markhiya','Jelaiah'], 'Population': [4886,28069,15706,15920,16334,6026,28327,18200,37082,28228,33262,7705,11897,12364,6242,38247,6507,6803,26121,41673,16086,33379,11671,48525,21367,4022,37461,4151,8967,5521], 'Latitude':[25.2865,25.2818,25.2777,25.2776,25.28,25.2853,25.2803,25.286,25.2693,25.2683,25.2766,25.3477,25.3477,25.329,25.3388,25.3156,25.3138,25.3006,25.3038,25.2838,25.2623,25.2467,25.2599,25.2481,25.2316,25.3077,25.3469,25.3212,25.3388,25.3522], 'Longitude':[51.5296,51.5275,51.5242,51.5321,51.54,51.5444,51.5124,51.5142,51.5295,51.5387,51.5492,51.4675,51.4675,51.4756,51.4992,51.4808,51.4914,51.4808,51.4953,51.4914,51.5094,51.5334,51.5439,51.5544,51.5413,51.5163,51.5176,51.5032,51.4992,51.4861]}\ndf = pd.DataFrame(data=d)\ndf\n\n"
        },
        {
            "cell_type": "markdown",
            "metadata": {},
            "source": "### Foursquare\nNow that we have the latitudes and longitudes of each neighbourhood, lets use foursquare to check for schools nearby which is our priority."
        },
        {
            "cell_type": "code",
            "execution_count": 90,
            "metadata": {},
            "outputs": [
                {
                    "name": "stdout",
                    "output_type": "stream",
                    "text": "Your credentails:\nCLIENT_ID: WBOFWONU5OGJYAT2FA5MCFEFGRTX1VYNQTCFMK2HKJVHONFB\nCLIENT_SECRET:WWJELALMLDLOWY5RK1AIIIB3SMWWBOIU4ECBE4045IZCWAK0\n"
                }
            ],
            "source": "CLIENT_ID = 'WBOFWONU5OGJYAT2FA5MCFEFGRTX1VYNQTCFMK2HKJVHONFB' # your Foursquare ID\nCLIENT_SECRET = 'WWJELALMLDLOWY5RK1AIIIB3SMWWBOIU4ECBE4045IZCWAK0' # your Foursquare Secret\nVERSION = '20180604'\nLIMIT = 30\nprint('Your credentails:')\nprint('CLIENT_ID: ' + CLIENT_ID)\nprint('CLIENT_SECRET:' + CLIENT_SECRET)"
        },
        {
            "cell_type": "code",
            "execution_count": 91,
            "metadata": {},
            "outputs": [
                {
                    "name": "stdout",
                    "output_type": "stream",
                    "text": "25.2856329 51.5264162\n"
                }
            ],
            "source": "address = 'Doha'\ngeolocator = Nominatim(user_agent=\"foursquare_agent\")\nlocation = geolocator.geocode(address)\nlatitude = location.latitude\nlongitude = location.longitude\nprint(latitude, longitude)"
        },
        {
            "cell_type": "code",
            "execution_count": 99,
            "metadata": {},
            "outputs": [
                {
                    "data": {
                        "text/plain": "{'meta': {'code': 200, 'requestId': '5e4a5144923935001bd5bb53'},\n 'response': {'venues': []}}"
                    },
                    "execution_count": 99,
                    "metadata": {},
                    "output_type": "execute_result"
                }
            ],
            "source": "search_query = 'schools'\nradius = 500\n\nurl = 'https://api.foursquare.com/v2/venues/search?client_id={}&client_secret={}&ll={},{}&v={}&query={}&radius={}&limit={}'.format(CLIENT_ID, CLIENT_SECRET, latitude, longitude, VERSION, search_query, radius, LIMIT)\n\nresults = requests.get(url).json()\nresults\n\n\n# Category IDs corresponding to schools were taken from Foursquare web site (https://developer.foursquare.com/docs/resources/categories):\nschools = '4bf58dd8d48988d13b941735' # 'Root' category for all food-related venues\n\nschool_categories = ['4f4533804b9074f6e4fb0105','4bf58dd8d48988d13d941735','4f4533814b9074f6e4fb0106', \n                        '4f4533814b9074f6e4fb0107', '52e81612bcbc57f1066b7a45', '52e81612bcbc57f1066b7a46']\n"
        }
    ],
    "metadata": {
        "kernelspec": {
            "display_name": "Python 3.6",
            "language": "python",
            "name": "python3"
        },
        "language_info": {
            "codemirror_mode": {
                "name": "ipython",
                "version": 3
            },
            "file_extension": ".py",
            "mimetype": "text/x-python",
            "name": "python",
            "nbconvert_exporter": "python",
            "pygments_lexer": "ipython3",
            "version": "3.6.9"
        }
    },
    "nbformat": 4,
    "nbformat_minor": 1
}