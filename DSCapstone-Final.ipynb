{
    "cells": [
        {
            "cell_type": "markdown",
            "metadata": {
                "collapsed": true
            },
            "source": "# Capstone Project - The Battle of the Neighborhoods \n### Optimal location for my healthy food brand in Doha"
        },
        {
            "cell_type": "markdown",
            "metadata": {},
            "source": "## Table of contents\n* [Introduction: Business Problem](#introduction)\n* [Data](#data)\n* [Methodology](#methodology)\n* [Analysis](#analysis)\n* [Results and Discussion](#results)\n* [Conclusion](#conclusion)"
        },
        {
            "cell_type": "markdown",
            "metadata": {},
            "source": "## Introduction: Business Problem <a name=\"introduction\"></a>"
        },
        {
            "cell_type": "markdown",
            "metadata": {},
            "source": "This project is based on a real life problem. I have a home-run healthy snacks company and I am looking for potential spot to set up shop here in Doha, Qatar. I'm going to try and be as practical as I can with this decision seeing how I am personally invested.\n\nThe idea of healthy eating is gaining popularity here in Qatar. Slowly but surely, people are making an effort to eat responsibly, especially when it comes to their kids. In this project we want to focus on localities close to schools since that is a place of particular interest. It would also help our cause if no other cafes are in the vicinity since we primarily sell snacks, not fully-plated food.\n\nUsing all my data science experience, I set forth to discover the best location possible for this investment."
        },
        {
            "cell_type": "markdown",
            "metadata": {},
            "source": "## Data <a name=\"data\"></a>"
        },
        {
            "cell_type": "markdown",
            "metadata": {},
            "source": "The most important factors to consider are:\n* areas close to schools\n* number of and distance to cafes in the neighborhood, if any\n\nQatar is divided into eight municipalities, and each municipality is further divided into zones.\nWe will focus this research on the zones under the Doha municipality, which will serve as our defined neighbourhoods.\n\nI am relying on the following sources to get the data I will need:\n* coordinates of Doha using Google Maps\n* coordinates of the zones using latlong.net\n* number of schools and their location in every zone using Foursquare API"
        },
        {
            "cell_type": "code",
            "execution_count": null,
            "metadata": {},
            "outputs": [],
            "source": ""
        }
    ],
    "metadata": {
        "kernelspec": {
            "display_name": "Python 3.6",
            "language": "python",
            "name": "python3"
        },
        "language_info": {
            "codemirror_mode": {
                "name": "ipython",
                "version": 3
            },
            "file_extension": ".py",
            "mimetype": "text/x-python",
            "name": "python",
            "nbconvert_exporter": "python",
            "pygments_lexer": "ipython3",
            "version": "3.6.9"
        }
    },
    "nbformat": 4,
    "nbformat_minor": 1
}